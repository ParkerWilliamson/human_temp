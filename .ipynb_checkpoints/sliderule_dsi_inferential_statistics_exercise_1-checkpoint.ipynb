{
 "cells": [
  {
   "cell_type": "markdown",
   "metadata": {},
   "source": [
    "# What is the True Normal Human Body Temperature? \n",
    "\n",
    "#### Background\n",
    "\n",
    "The mean normal body temperature was held to be 37$^{\\circ}$C or 98.6$^{\\circ}$F for more than 120 years since it was first conceptualized and reported by Carl Wunderlich in a famous 1868 book. But, is this value statistically correct?"
   ]
  },
  {
   "cell_type": "markdown",
   "metadata": {},
   "source": [
    "<h3>Exercises</h3>\n",
    "\n",
    "<p>In this exercise, you will analyze a dataset of human body temperatures and employ the concepts of hypothesis testing, confidence intervals, and statistical significance.</p>\n",
    "\n",
    "<p>Answer the following questions <b>in this notebook below and submit to your Github account</b>.</p> \n",
    "\n",
    "<ol>\n",
    "<li>  Is the distribution of body temperatures normal? \n",
    "    <ul>\n",
    "    <li> Although this is not a requirement for CLT to hold (read CLT carefully), it gives us some peace of mind that the population may also be normally distributed if we assume that this sample is representative of the population.\n",
    "    </ul>\n",
    "<li>  Is the sample size large? Are the observations independent?\n",
    "    <ul>\n",
    "    <li> Remember that this is a condition for the CLT, and hence the statistical tests we are using, to apply.\n",
    "    </ul>\n",
    "<li>  Is the true population mean really 98.6 degrees F?\n",
    "    <ul>\n",
    "    <li> Would you use a one-sample or two-sample test? Why?\n",
    "    <li> In this situation, is it appropriate to use the $t$ or $z$ statistic? \n",
    "    <li> Now try using the other test. How is the result be different? Why?\n",
    "    </ul>\n",
    "<li>  Draw a small sample of size 10 from the data and repeat both tests. \n",
    "    <ul>\n",
    "    <li> Which one is the correct one to use? \n",
    "    <li> What do you notice? What does this tell you about the difference in application of the $t$ and $z$ statistic?\n",
    "    </ul>\n",
    "<li>  At what temperature should we consider someone's temperature to be \"abnormal\"?\n",
    "    <ul>\n",
    "    <li> Start by computing the margin of error and confidence interval.\n",
    "    </ul>\n",
    "<li>  Is there a significant difference between males and females in normal temperature?\n",
    "    <ul>\n",
    "    <li> What test did you use and why?\n",
    "    <li> Write a story with your conclusion in the context of the original problem.\n",
    "    </ul>\n",
    "</ol>\n",
    "\n",
    "You can include written notes in notebook cells using Markdown: \n",
    "   - In the control panel at the top, choose Cell > Cell Type > Markdown\n",
    "   - Markdown syntax: http://nestacms.com/docs/creating-content/markdown-cheat-sheet\n",
    "\n",
    "#### Resources\n",
    "\n",
    "+ Information and data sources: http://www.amstat.org/publications/jse/datasets/normtemp.txt, http://www.amstat.org/publications/jse/jse_data_archive.htm\n",
    "+ Markdown syntax: http://nestacms.com/docs/creating-content/markdown-cheat-sheet\n",
    "\n",
    "****"
   ]
  },
  {
   "cell_type": "code",
   "execution_count": 2,
   "metadata": {
    "collapsed": true
   },
   "outputs": [],
   "source": [
    "import pandas as pd\n",
    "\n",
    "df = pd.read_csv('data/human_body_temperature.csv')"
   ]
  },
  {
   "cell_type": "code",
   "execution_count": 3,
   "metadata": {},
   "outputs": [
    {
     "name": "stdout",
     "output_type": "stream",
     "text": [
      "     temperature gender  heart_rate\n",
      "0           99.3      F        68.0\n",
      "1           98.4      F        81.0\n",
      "2           97.8      M        73.0\n",
      "3           99.2      F        66.0\n",
      "4           98.0      F        73.0\n",
      "5           99.2      M        83.0\n",
      "6           98.0      M        71.0\n",
      "7           98.8      M        78.0\n",
      "8           98.4      F        84.0\n",
      "9           98.6      F        86.0\n",
      "10          98.8      F        89.0\n",
      "11          96.7      F        62.0\n",
      "12          98.2      M        72.0\n",
      "13          98.7      F        79.0\n",
      "14          97.8      F        77.0\n",
      "15          98.8      F        83.0\n",
      "16          98.3      F        79.0\n",
      "17          98.2      M        64.0\n",
      "18          97.2      F        68.0\n",
      "19          99.4      M        70.0\n",
      "20          98.3      F        78.0\n",
      "21          98.2      M        71.0\n",
      "22          98.6      M        70.0\n",
      "23          98.4      M        68.0\n",
      "24          97.8      M        65.0\n",
      "25          98.0      F        87.0\n",
      "26          97.8      F        62.0\n",
      "27          98.2      F        69.0\n",
      "28          98.4      F        73.0\n",
      "29          98.1      M        67.0\n",
      "..           ...    ...         ...\n",
      "100         99.0      M        81.0\n",
      "101         98.5      M        68.0\n",
      "102         98.0      F        78.0\n",
      "103         99.4      F        77.0\n",
      "104         97.6      M        69.0\n",
      "105         96.7      M        71.0\n",
      "106         97.0      M        80.0\n",
      "107         98.6      M        66.0\n",
      "108         98.7      F        72.0\n",
      "109         97.3      M        69.0\n",
      "110         98.8      F        69.0\n",
      "111         98.0      F        89.0\n",
      "112         98.2      F        64.0\n",
      "113         99.1      F        74.0\n",
      "114         99.0      M        79.0\n",
      "115         98.0      M        64.0\n",
      "116        100.8      F        77.0\n",
      "117         97.8      F        71.0\n",
      "118         98.7      M        78.0\n",
      "119         98.4      F        74.0\n",
      "120         97.7      F        84.0\n",
      "121         97.9      F        68.0\n",
      "122         99.0      F        81.0\n",
      "123         97.2      F        66.0\n",
      "124         97.5      M        75.0\n",
      "125         96.3      M        70.0\n",
      "126         97.7      M        77.0\n",
      "127         98.2      F        73.0\n",
      "128         97.9      M        72.0\n",
      "129         98.7      F        59.0\n",
      "\n",
      "[130 rows x 3 columns]\n"
     ]
    }
   ],
   "source": [
    "print(df)"
   ]
  },
  {
   "cell_type": "markdown",
   "metadata": {},
   "source": [
    "Calculates the p-score of the values being a normally distributed"
   ]
  },
  {
   "cell_type": "code",
   "execution_count": 4,
   "metadata": {},
   "outputs": [
    {
     "name": "stdout",
     "output_type": "stream",
     "text": [
      "0.258747986349\n"
     ]
    }
   ],
   "source": [
    "from scipy import stats\n",
    "import numpy as np\n",
    "\n",
    "k2, p_score = stats.normaltest(df['temperature'])\n",
    "print(p_score)"
   ]
  },
  {
   "cell_type": "markdown",
   "metadata": {},
   "source": [
    "1) Is the distribution of body temperatures normal?\n",
    "Although this is not a requirement for CLT to hold (read CLT carefully), it gives us some peace of mind that the population is normally distributed if we assume that this sample is representative of the population.\n",
    "\n",
    "p_score of 0.258747986349 is greater than the alpha value of .05, which means the null hypothesis is proven and the data is normally distributed."
   ]
  },
  {
   "cell_type": "code",
   "execution_count": 5,
   "metadata": {},
   "outputs": [
    {
     "name": "stdout",
     "output_type": "stream",
     "text": [
      "130\n"
     ]
    }
   ],
   "source": [
    "print(len(df['temperature']))"
   ]
  },
  {
   "cell_type": "markdown",
   "metadata": {},
   "source": [
    "2) Is the sample size large? Are the observations independent?\n",
    "Remember that this is a condition for the CLT, and hence the statistical tests we are using, to apply. \n",
    "\n",
    "N is greater than 30 and therefore considered a large sample size"
   ]
  },
  {
   "cell_type": "code",
   "execution_count": 6,
   "metadata": {},
   "outputs": [
    {
     "name": "stdout",
     "output_type": "stream",
     "text": [
      "98.24923076923078\n"
     ]
    }
   ],
   "source": [
    "print(np.mean(df['temperature']))"
   ]
  },
  {
   "cell_type": "code",
   "execution_count": 7,
   "metadata": {},
   "outputs": [
    {
     "name": "stdout",
     "output_type": "stream",
     "text": [
      "98.1046153846154\n",
      "98.39384615384613\n"
     ]
    },
    {
     "data": {
      "image/png": "[encoded data removed]",
      "text/plain": [
       "<matplotlib.figure.Figure at 0xbb75f28>"
      ]
     },
     "metadata": {},
     "output_type": "display_data"
    },
    {
     "data": {
      "image/png": "[encoded data removed]",
      "text/plain": [
       "<matplotlib.figure.Figure at 0xbbfa0b8>"
      ]
     },
     "metadata": {},
     "output_type": "display_data"
    }
   ],
   "source": [
    "import seaborn as sns\n",
    "import matplotlib.pyplot as plt\n",
    "MaleT= df[df['gender']=='M']['temperature']\n",
    "FemaleT=df[df['gender']=='F']['temperature']\n",
    "print(np.mean(MaleT))\n",
    "print(np.mean(FemaleT))\n",
    "sns.set_style(\"whitegrid\")\n",
    "sns.swarmplot(x=\"gender\", y=\"temperature\", data=df)\n",
    "plt.show()\n",
    "sns.boxplot(x=\"gender\", y=\"temperature\", data=df)\n",
    "plt.show()"
   ]
  },
  {
   "cell_type": "code",
   "execution_count": 8,
   "metadata": {},
   "outputs": [
    {
     "name": "stdout",
     "output_type": "stream",
     "text": [
      "Male High:  100.104615385\n",
      "Male Low:  96.1046153846\n",
      "Female High:  99.9938461538\n",
      "Female Low:  96.7938461538\n"
     ]
    }
   ],
   "source": [
    "VA_male = stats.iqr(MaleT)*2+np.mean(MaleT)\n",
    "VA_female = stats.iqr(FemaleT)*2+np.mean(FemaleT)\n",
    "VB_male = -stats.iqr(MaleT)*2+np.mean(MaleT)\n",
    "VB_female = -stats.iqr(FemaleT)*2+np.mean(FemaleT)\n",
    "print('Male High: ', VA_male)\n",
    "print('Male Low: ', VB_male)\n",
    "print('Female High: ',VA_female)\n",
    "print('Female Low: ',VB_female)"
   ]
  },
  {
   "cell_type": "code",
   "execution_count": 9,
   "metadata": {},
   "outputs": [
    {
     "name": "stdout",
     "output_type": "stream",
     "text": [
      "P-score 0.0213\n"
     ]
    }
   ],
   "source": [
    "#z Test\n",
    "#https://stats.stackexchange.com/questions/124096/two-samples-z-test-in-python\n",
    "#https://github.com/Volodymyrk/stats-testing-in-python/blob/master/03%20-%20AB%20testing%20Proportions%20with%20z-test.ipynb\n",
    "def twoSampZ(X1, X2, mudiff, sd1, sd2, n1, n2):\n",
    "    from numpy import sqrt, abs, round\n",
    "    from scipy.stats import norm\n",
    "    pooledSE = sqrt(sd1**2/n1 + sd2**2/n2)\n",
    "    z = ((X1 - X2) - mudiff)/pooledSE\n",
    "    pval = 2*(1 - norm.cdf(abs(z)))\n",
    "    return round(z, 3), round(pval, 4)\n",
    "\n",
    "sd1 = np.std(MaleT)\n",
    "X1 = np.mean(MaleT)\n",
    "sd2 = np.std(FemaleT)\n",
    "X2 = np.mean(FemaleT)\n",
    "n1 = len(MaleT)\n",
    "n2 = len(FemaleT)\n",
    "mudiff = 0\n",
    "\n",
    "statistic,pvalue = twoSampZ(X1, X2, mudiff, sd1, sd2, n1, n2)\n",
    "print('P-score',pvalue)"
   ]
  },
  {
   "cell_type": "code",
   "execution_count": 10,
   "metadata": {},
   "outputs": [
    {
     "name": "stdout",
     "output_type": "stream",
     "text": [
      "Probability 0.0239382641829\n"
     ]
    }
   ],
   "source": [
    "#t_test\n",
    "statistic,pvalue = stats.ttest_ind(MaleT,FemaleT, equal_var=False)\n",
    "print('Probability',pvalue)\n",
    "#pvalue is the probablity that the male and female data have identical means. "
   ]
  },
  {
   "cell_type": "markdown",
   "metadata": {},
   "source": [
    "3) Is the true population mean really 98.6 degrees F?\n",
    "Would you use a one-sample or two-sample test? Why?\n",
    "In this situation, is it appropriate to use the  tt  or  zz  statistic?\n",
    "Now try using the other test. How is the result be different? Why?\n",
    "\n",
    "98.6 deg F is not the true mean of the dataset, which is 98.249 deg F, though there are some potential outliers that should be checked for health conditions.The female dataset expecially has 2-3 datapoints that are in the outlier range (more than 2 IQR from mean). The Highest female is particularly of interest.\n",
    "\n",
    "The male and female means are different 98.10 vs 98.39, and the p-score from a z-test that is tests whether their true means are the same is very low at .0213. The null hypothesis is overturned p-score<alpha (.05), so the means are different for the male and female samples. In this situation a Z test more appropriate, since the standard deviation can be calculated and the sample size is large (greater that n=30). \n",
    "\n",
    "The T-test gives you a p-score of a dataset with a smaller number of samples and agrees with the the Z-test with a p-score of .024. The results are approximately the same but the T test just has one extra assumption in place of using the standard deviation."
   ]
  },
  {
   "cell_type": "code",
   "execution_count": 13,
   "metadata": {},
   "outputs": [],
   "source": [
    "sub_MaleT = np.random.choice(MaleT,10)\n",
    "sub_FemaleT = np.random.choice(FemaleT,10)"
   ]
  },
  {
   "cell_type": "code",
   "execution_count": 14,
   "metadata": {},
   "outputs": [
    {
     "name": "stdout",
     "output_type": "stream",
     "text": [
      "p-score (Z) 0.136\n",
      "p-score (T) 0.17817042406\n"
     ]
    }
   ],
   "source": [
    "sd1 = np.std(sub_MaleT)\n",
    "X1 = np.mean(sub_MaleT)\n",
    "sd2 = np.std(sub_FemaleT)\n",
    "X2 = np.mean(sub_FemaleT)\n",
    "n1 = len(sub_MaleT)\n",
    "n2 = len(sub_FemaleT)\n",
    "mudiff = 0\n",
    "\n",
    "statistic,pvalue = twoSampZ(X1, X2, mudiff, sd1, sd2, n1, n2)\n",
    "print('p-score (Z)',pvalue)\n",
    "\n",
    "#t_test\n",
    "statistic,pvalue = stats.ttest_ind(sub_MaleT,sub_FemaleT, equal_var=False)\n",
    "print('p-score (T)',pvalue)\n",
    "#pvalue is the probablity that the male and female data have identical means. "
   ]
  },
  {
   "cell_type": "markdown",
   "metadata": {},
   "source": [
    "4) Draw a small sample of size 10 from the data and repeat both tests.\n",
    "Which one is the correct one to use?\n",
    "What do you notice? What does this tell you about the difference in application of the  tt  and  zz  statistic?\n",
    "\n",
    "The T probability is the correct one to use for small samples. They both vary a lot, one run I even got them both at 75%. The T probabilty is always higher as well."
   ]
  },
  {
   "cell_type": "code",
   "execution_count": 15,
   "metadata": {},
   "outputs": [
    {
     "name": "stdout",
     "output_type": "stream",
     "text": [
      "Male High:  100.104615385\n",
      "Male Low:  96.1046153846\n",
      "Female High:  99.9938461538\n",
      "Female Low:  96.7938461538\n"
     ]
    }
   ],
   "source": [
    "VA_male = stats.iqr(MaleT)*2+np.mean(MaleT)\n",
    "VA_female = stats.iqr(FemaleT)*2+np.mean(FemaleT)\n",
    "VB_male = -stats.iqr(MaleT)*2+np.mean(MaleT)\n",
    "VB_female = -stats.iqr(FemaleT)*2+np.mean(FemaleT)\n",
    "print('Male High: ', VA_male)\n",
    "print('Male Low: ', VB_male)\n",
    "print('Female High: ',VA_female)\n",
    "print('Female Low: ',VB_female)"
   ]
  },
  {
   "cell_type": "code",
   "execution_count": 16,
   "metadata": {},
   "outputs": [
    {
     "name": "stdout",
     "output_type": "stream",
     "text": [
      "Male 95% confidence interval:  [ 96.82  99.34]\n",
      "Female 95% confidence interval:  [ 96.76  99.94]\n"
     ]
    }
   ],
   "source": [
    "print('Male 95% confidence interval: ',np.percentile(MaleT,[2.5,97.5]))\n",
    "print('Female 95% confidence interval: ',np.percentile(FemaleT,[2.5,97.5]))"
   ]
  },
  {
   "cell_type": "markdown",
   "metadata": {},
   "source": [
    "At what temperature should we consider someone's temperature to be \"abnormal\"?\n",
    "Start by computing the margin of error and confidence interval.\n",
    "\n",
    "We should start considering someones temperature abnormal once they become an outlier. An outlier for males is above 100.1 degrees, 99.34 is the high side of the 95% confidence interval. Since both match up fairly closely I would consider a males temperature abnormal after 99.34 but really start to worry once it reaches 100.1 since then it is a true outlier. So the confidence intervals what should be classified as abnormal, but also keep an eye of the outlier data calculated before that. About 5% of the time someone should have a temperature outside of the confidence intervals and the outlier calculations will help to confirm that isn't what its happening."
   ]
  },
  {
   "cell_type": "markdown",
   "metadata": {},
   "source": [
    "Is there a significant difference between males and females in normal temperature?\n",
    "What test did you use and why?\n",
    "Write a story with your conclusion in the context of the original problem."
   ]
  },
  {
   "cell_type": "markdown",
   "metadata": {},
   "source": [
    "Yes the null hypothesis confirmed that there is a difference as shown with the z test. The difference isnt large but from these tests the mean are slightly veriant.\n",
    "\n",
    "Based on this data it appears the average body temperature for men and women is slightly different by about .3 degrees farenheit. For measureing if someone is sick that isn't too relevent, but there is a statistically signifigant measured difference."
   ]
  },
  {
   "cell_type": "code",
   "execution_count": null,
   "metadata": {},
   "outputs": [],
   "source": []
  }
 ],
 "metadata": {
  "kernelspec": {
   "display_name": "Python 3",
   "language": "python",
   "name": "python3"
  },
  "language_info": {
   "codemirror_mode": {
    "name": "ipython",
    "version": 3
   },
   "file_extension": ".py",
   "mimetype": "text/x-python",
   "name": "python",
   "nbconvert_exporter": "python",
   "pygments_lexer": "ipython3",
   "version": "3.6.3"
  }
 },
 "nbformat": 4,
 "nbformat_minor": 2
}
